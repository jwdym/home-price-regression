{
 "cells": [
  {
   "cell_type": "code",
   "execution_count": 422,
   "id": "fa397950",
   "metadata": {},
   "outputs": [],
   "source": [
    "import os\n",
    "import sklearn\n",
    "\n",
    "import pandas as pd\n",
    "import numpy as np\n",
    "\n",
    "from matplotlib import pyplot as plt\n",
    "from sklearn.impute import KNNImputer\n",
    "from sklearn.ensemble import GradientBoostingRegressor\n",
    "from sklearn.preprocessing import OneHotEncoder\n",
    "from sklearn.experimental import enable_halving_search_cv\n",
    "from sklearn.model_selection import HalvingRandomSearchCV\n",
    "from sklearn.metrics import r2_score, explained_variance_score, max_error"
   ]
  },
  {
   "cell_type": "code",
   "execution_count": 451,
   "id": "51420e38",
   "metadata": {},
   "outputs": [],
   "source": [
    "import pickle"
   ]
  },
  {
   "cell_type": "code",
   "execution_count": 369,
   "id": "7606b490",
   "metadata": {},
   "outputs": [],
   "source": [
    "base_path = os.getcwd()\n",
    "dat = pd.read_csv(f'{base_path}/env/data/train.csv')"
   ]
  },
  {
   "cell_type": "code",
   "execution_count": 370,
   "id": "d4031244",
   "metadata": {},
   "outputs": [],
   "source": [
    "dat = dat.drop('Id', axis=1)"
   ]
  },
  {
   "cell_type": "code",
   "execution_count": 371,
   "id": "e7416fbd",
   "metadata": {},
   "outputs": [
    {
     "data": {
      "text/html": [
       "<div>\n",
       "<style scoped>\n",
       "    .dataframe tbody tr th:only-of-type {\n",
       "        vertical-align: middle;\n",
       "    }\n",
       "\n",
       "    .dataframe tbody tr th {\n",
       "        vertical-align: top;\n",
       "    }\n",
       "\n",
       "    .dataframe thead th {\n",
       "        text-align: right;\n",
       "    }\n",
       "</style>\n",
       "<table border=\"1\" class=\"dataframe\">\n",
       "  <thead>\n",
       "    <tr style=\"text-align: right;\">\n",
       "      <th></th>\n",
       "      <th>MSSubClass</th>\n",
       "      <th>MSZoning</th>\n",
       "      <th>LotFrontage</th>\n",
       "      <th>LotArea</th>\n",
       "      <th>Street</th>\n",
       "      <th>Alley</th>\n",
       "      <th>LotShape</th>\n",
       "      <th>LandContour</th>\n",
       "      <th>Utilities</th>\n",
       "      <th>LotConfig</th>\n",
       "      <th>...</th>\n",
       "      <th>PoolArea</th>\n",
       "      <th>PoolQC</th>\n",
       "      <th>Fence</th>\n",
       "      <th>MiscFeature</th>\n",
       "      <th>MiscVal</th>\n",
       "      <th>MoSold</th>\n",
       "      <th>YrSold</th>\n",
       "      <th>SaleType</th>\n",
       "      <th>SaleCondition</th>\n",
       "      <th>SalePrice</th>\n",
       "    </tr>\n",
       "  </thead>\n",
       "  <tbody>\n",
       "    <tr>\n",
       "      <th>0</th>\n",
       "      <td>60</td>\n",
       "      <td>RL</td>\n",
       "      <td>65.0</td>\n",
       "      <td>8450</td>\n",
       "      <td>Pave</td>\n",
       "      <td>NaN</td>\n",
       "      <td>Reg</td>\n",
       "      <td>Lvl</td>\n",
       "      <td>AllPub</td>\n",
       "      <td>Inside</td>\n",
       "      <td>...</td>\n",
       "      <td>0</td>\n",
       "      <td>NaN</td>\n",
       "      <td>NaN</td>\n",
       "      <td>NaN</td>\n",
       "      <td>0</td>\n",
       "      <td>2</td>\n",
       "      <td>2008</td>\n",
       "      <td>WD</td>\n",
       "      <td>Normal</td>\n",
       "      <td>208500</td>\n",
       "    </tr>\n",
       "    <tr>\n",
       "      <th>1</th>\n",
       "      <td>20</td>\n",
       "      <td>RL</td>\n",
       "      <td>80.0</td>\n",
       "      <td>9600</td>\n",
       "      <td>Pave</td>\n",
       "      <td>NaN</td>\n",
       "      <td>Reg</td>\n",
       "      <td>Lvl</td>\n",
       "      <td>AllPub</td>\n",
       "      <td>FR2</td>\n",
       "      <td>...</td>\n",
       "      <td>0</td>\n",
       "      <td>NaN</td>\n",
       "      <td>NaN</td>\n",
       "      <td>NaN</td>\n",
       "      <td>0</td>\n",
       "      <td>5</td>\n",
       "      <td>2007</td>\n",
       "      <td>WD</td>\n",
       "      <td>Normal</td>\n",
       "      <td>181500</td>\n",
       "    </tr>\n",
       "    <tr>\n",
       "      <th>2</th>\n",
       "      <td>60</td>\n",
       "      <td>RL</td>\n",
       "      <td>68.0</td>\n",
       "      <td>11250</td>\n",
       "      <td>Pave</td>\n",
       "      <td>NaN</td>\n",
       "      <td>IR1</td>\n",
       "      <td>Lvl</td>\n",
       "      <td>AllPub</td>\n",
       "      <td>Inside</td>\n",
       "      <td>...</td>\n",
       "      <td>0</td>\n",
       "      <td>NaN</td>\n",
       "      <td>NaN</td>\n",
       "      <td>NaN</td>\n",
       "      <td>0</td>\n",
       "      <td>9</td>\n",
       "      <td>2008</td>\n",
       "      <td>WD</td>\n",
       "      <td>Normal</td>\n",
       "      <td>223500</td>\n",
       "    </tr>\n",
       "    <tr>\n",
       "      <th>3</th>\n",
       "      <td>70</td>\n",
       "      <td>RL</td>\n",
       "      <td>60.0</td>\n",
       "      <td>9550</td>\n",
       "      <td>Pave</td>\n",
       "      <td>NaN</td>\n",
       "      <td>IR1</td>\n",
       "      <td>Lvl</td>\n",
       "      <td>AllPub</td>\n",
       "      <td>Corner</td>\n",
       "      <td>...</td>\n",
       "      <td>0</td>\n",
       "      <td>NaN</td>\n",
       "      <td>NaN</td>\n",
       "      <td>NaN</td>\n",
       "      <td>0</td>\n",
       "      <td>2</td>\n",
       "      <td>2006</td>\n",
       "      <td>WD</td>\n",
       "      <td>Abnorml</td>\n",
       "      <td>140000</td>\n",
       "    </tr>\n",
       "    <tr>\n",
       "      <th>4</th>\n",
       "      <td>60</td>\n",
       "      <td>RL</td>\n",
       "      <td>84.0</td>\n",
       "      <td>14260</td>\n",
       "      <td>Pave</td>\n",
       "      <td>NaN</td>\n",
       "      <td>IR1</td>\n",
       "      <td>Lvl</td>\n",
       "      <td>AllPub</td>\n",
       "      <td>FR2</td>\n",
       "      <td>...</td>\n",
       "      <td>0</td>\n",
       "      <td>NaN</td>\n",
       "      <td>NaN</td>\n",
       "      <td>NaN</td>\n",
       "      <td>0</td>\n",
       "      <td>12</td>\n",
       "      <td>2008</td>\n",
       "      <td>WD</td>\n",
       "      <td>Normal</td>\n",
       "      <td>250000</td>\n",
       "    </tr>\n",
       "  </tbody>\n",
       "</table>\n",
       "<p>5 rows × 80 columns</p>\n",
       "</div>"
      ],
      "text/plain": [
       "   MSSubClass MSZoning  LotFrontage  LotArea Street Alley LotShape  \\\n",
       "0          60       RL         65.0     8450   Pave   NaN      Reg   \n",
       "1          20       RL         80.0     9600   Pave   NaN      Reg   \n",
       "2          60       RL         68.0    11250   Pave   NaN      IR1   \n",
       "3          70       RL         60.0     9550   Pave   NaN      IR1   \n",
       "4          60       RL         84.0    14260   Pave   NaN      IR1   \n",
       "\n",
       "  LandContour Utilities LotConfig  ... PoolArea PoolQC Fence MiscFeature  \\\n",
       "0         Lvl    AllPub    Inside  ...        0    NaN   NaN         NaN   \n",
       "1         Lvl    AllPub       FR2  ...        0    NaN   NaN         NaN   \n",
       "2         Lvl    AllPub    Inside  ...        0    NaN   NaN         NaN   \n",
       "3         Lvl    AllPub    Corner  ...        0    NaN   NaN         NaN   \n",
       "4         Lvl    AllPub       FR2  ...        0    NaN   NaN         NaN   \n",
       "\n",
       "  MiscVal MoSold  YrSold  SaleType  SaleCondition  SalePrice  \n",
       "0       0      2    2008        WD         Normal     208500  \n",
       "1       0      5    2007        WD         Normal     181500  \n",
       "2       0      9    2008        WD         Normal     223500  \n",
       "3       0      2    2006        WD        Abnorml     140000  \n",
       "4       0     12    2008        WD         Normal     250000  \n",
       "\n",
       "[5 rows x 80 columns]"
      ]
     },
     "execution_count": 371,
     "metadata": {},
     "output_type": "execute_result"
    }
   ],
   "source": [
    "dat.head()"
   ]
  },
  {
   "cell_type": "markdown",
   "id": "c6700ada",
   "metadata": {},
   "source": [
    "With the data set loaded we need to identify the categorical data from the numeric data, as the categorical data will need to be transformed in some manner before prediction (It's good practice to transform the numeric data too, either to standardize it or for identifying outliers)."
   ]
  },
  {
   "cell_type": "markdown",
   "id": "4dad01c1",
   "metadata": {},
   "source": [
    "# EDA\n",
    "\n",
    "We need to dig into the data more deeply, starting with missing values we'll look at the best way to handle them."
   ]
  },
  {
   "cell_type": "code",
   "execution_count": 372,
   "id": "5f93046b",
   "metadata": {},
   "outputs": [
    {
     "data": {
      "text/html": [
       "<div>\n",
       "<style scoped>\n",
       "    .dataframe tbody tr th:only-of-type {\n",
       "        vertical-align: middle;\n",
       "    }\n",
       "\n",
       "    .dataframe tbody tr th {\n",
       "        vertical-align: top;\n",
       "    }\n",
       "\n",
       "    .dataframe thead th {\n",
       "        text-align: right;\n",
       "    }\n",
       "</style>\n",
       "<table border=\"1\" class=\"dataframe\">\n",
       "  <thead>\n",
       "    <tr style=\"text-align: right;\">\n",
       "      <th></th>\n",
       "      <th>Total</th>\n",
       "      <th>Percentage</th>\n",
       "    </tr>\n",
       "  </thead>\n",
       "  <tbody>\n",
       "    <tr>\n",
       "      <th>PoolQC</th>\n",
       "      <td>1453</td>\n",
       "      <td>99.520548</td>\n",
       "    </tr>\n",
       "    <tr>\n",
       "      <th>MiscFeature</th>\n",
       "      <td>1406</td>\n",
       "      <td>96.301370</td>\n",
       "    </tr>\n",
       "    <tr>\n",
       "      <th>Alley</th>\n",
       "      <td>1369</td>\n",
       "      <td>93.767123</td>\n",
       "    </tr>\n",
       "    <tr>\n",
       "      <th>Fence</th>\n",
       "      <td>1179</td>\n",
       "      <td>80.753425</td>\n",
       "    </tr>\n",
       "    <tr>\n",
       "      <th>FireplaceQu</th>\n",
       "      <td>690</td>\n",
       "      <td>47.260274</td>\n",
       "    </tr>\n",
       "    <tr>\n",
       "      <th>LotFrontage</th>\n",
       "      <td>259</td>\n",
       "      <td>17.739726</td>\n",
       "    </tr>\n",
       "    <tr>\n",
       "      <th>GarageType</th>\n",
       "      <td>81</td>\n",
       "      <td>5.547945</td>\n",
       "    </tr>\n",
       "    <tr>\n",
       "      <th>GarageYrBlt</th>\n",
       "      <td>81</td>\n",
       "      <td>5.547945</td>\n",
       "    </tr>\n",
       "    <tr>\n",
       "      <th>GarageFinish</th>\n",
       "      <td>81</td>\n",
       "      <td>5.547945</td>\n",
       "    </tr>\n",
       "    <tr>\n",
       "      <th>GarageQual</th>\n",
       "      <td>81</td>\n",
       "      <td>5.547945</td>\n",
       "    </tr>\n",
       "    <tr>\n",
       "      <th>GarageCond</th>\n",
       "      <td>81</td>\n",
       "      <td>5.547945</td>\n",
       "    </tr>\n",
       "    <tr>\n",
       "      <th>BsmtExposure</th>\n",
       "      <td>38</td>\n",
       "      <td>2.602740</td>\n",
       "    </tr>\n",
       "    <tr>\n",
       "      <th>BsmtFinType2</th>\n",
       "      <td>38</td>\n",
       "      <td>2.602740</td>\n",
       "    </tr>\n",
       "    <tr>\n",
       "      <th>BsmtFinType1</th>\n",
       "      <td>37</td>\n",
       "      <td>2.534247</td>\n",
       "    </tr>\n",
       "    <tr>\n",
       "      <th>BsmtCond</th>\n",
       "      <td>37</td>\n",
       "      <td>2.534247</td>\n",
       "    </tr>\n",
       "    <tr>\n",
       "      <th>BsmtQual</th>\n",
       "      <td>37</td>\n",
       "      <td>2.534247</td>\n",
       "    </tr>\n",
       "    <tr>\n",
       "      <th>MasVnrArea</th>\n",
       "      <td>8</td>\n",
       "      <td>0.547945</td>\n",
       "    </tr>\n",
       "    <tr>\n",
       "      <th>MasVnrType</th>\n",
       "      <td>8</td>\n",
       "      <td>0.547945</td>\n",
       "    </tr>\n",
       "    <tr>\n",
       "      <th>Electrical</th>\n",
       "      <td>1</td>\n",
       "      <td>0.068493</td>\n",
       "    </tr>\n",
       "  </tbody>\n",
       "</table>\n",
       "</div>"
      ],
      "text/plain": [
       "              Total  Percentage\n",
       "PoolQC         1453   99.520548\n",
       "MiscFeature    1406   96.301370\n",
       "Alley          1369   93.767123\n",
       "Fence          1179   80.753425\n",
       "FireplaceQu     690   47.260274\n",
       "LotFrontage     259   17.739726\n",
       "GarageType       81    5.547945\n",
       "GarageYrBlt      81    5.547945\n",
       "GarageFinish     81    5.547945\n",
       "GarageQual       81    5.547945\n",
       "GarageCond       81    5.547945\n",
       "BsmtExposure     38    2.602740\n",
       "BsmtFinType2     38    2.602740\n",
       "BsmtFinType1     37    2.534247\n",
       "BsmtCond         37    2.534247\n",
       "BsmtQual         37    2.534247\n",
       "MasVnrArea        8    0.547945\n",
       "MasVnrType        8    0.547945\n",
       "Electrical        1    0.068493"
      ]
     },
     "execution_count": 372,
     "metadata": {},
     "output_type": "execute_result"
    }
   ],
   "source": [
    "# Quantify amount of missing data\n",
    "null_values = (np.sum(dat.isna()))[np.sum(dat.isna()) > 0]\n",
    "prop = (np.sum(dat.isna()) / dat.shape[0])[np.sum(dat.isna()) > 0] * 100\n",
    "missing_data = pd.concat([null_values, prop], axis=1, keys=['Total', 'Percentage'])\n",
    "missing_data.sort_values(by='Total', ascending=False)"
   ]
  },
  {
   "cell_type": "markdown",
   "id": "2bea8f31",
   "metadata": {},
   "source": [
    "The variables with the most missing data `PoolQC, MiscFeature, Alley, Fence, FireplaceQu`, are all categorical variables. We can create a one hot encoding column to denote if the values are missing or not."
   ]
  },
  {
   "cell_type": "code",
   "execution_count": 373,
   "id": "1d707563",
   "metadata": {},
   "outputs": [
    {
     "data": {
      "text/html": [
       "<div>\n",
       "<style scoped>\n",
       "    .dataframe tbody tr th:only-of-type {\n",
       "        vertical-align: middle;\n",
       "    }\n",
       "\n",
       "    .dataframe tbody tr th {\n",
       "        vertical-align: top;\n",
       "    }\n",
       "\n",
       "    .dataframe thead th {\n",
       "        text-align: right;\n",
       "    }\n",
       "</style>\n",
       "<table border=\"1\" class=\"dataframe\">\n",
       "  <thead>\n",
       "    <tr style=\"text-align: right;\">\n",
       "      <th></th>\n",
       "      <th>PoolQC</th>\n",
       "      <th>MiscFeature</th>\n",
       "      <th>Alley</th>\n",
       "      <th>Fence</th>\n",
       "      <th>FireplaceQu</th>\n",
       "    </tr>\n",
       "  </thead>\n",
       "  <tbody>\n",
       "    <tr>\n",
       "      <th>count</th>\n",
       "      <td>7</td>\n",
       "      <td>54</td>\n",
       "      <td>91</td>\n",
       "      <td>281</td>\n",
       "      <td>770</td>\n",
       "    </tr>\n",
       "    <tr>\n",
       "      <th>unique</th>\n",
       "      <td>3</td>\n",
       "      <td>4</td>\n",
       "      <td>2</td>\n",
       "      <td>4</td>\n",
       "      <td>5</td>\n",
       "    </tr>\n",
       "    <tr>\n",
       "      <th>top</th>\n",
       "      <td>Gd</td>\n",
       "      <td>Shed</td>\n",
       "      <td>Grvl</td>\n",
       "      <td>MnPrv</td>\n",
       "      <td>Gd</td>\n",
       "    </tr>\n",
       "    <tr>\n",
       "      <th>freq</th>\n",
       "      <td>3</td>\n",
       "      <td>49</td>\n",
       "      <td>50</td>\n",
       "      <td>157</td>\n",
       "      <td>380</td>\n",
       "    </tr>\n",
       "  </tbody>\n",
       "</table>\n",
       "</div>"
      ],
      "text/plain": [
       "       PoolQC MiscFeature Alley  Fence FireplaceQu\n",
       "count       7          54    91    281         770\n",
       "unique      3           4     2      4           5\n",
       "top        Gd        Shed  Grvl  MnPrv          Gd\n",
       "freq        3          49    50    157         380"
      ]
     },
     "execution_count": 373,
     "metadata": {},
     "output_type": "execute_result"
    }
   ],
   "source": [
    "dat[['PoolQC', 'MiscFeature', 'Alley', 'Fence', 'FireplaceQu']].describe()"
   ]
  },
  {
   "cell_type": "code",
   "execution_count": 374,
   "id": "52b3ba93",
   "metadata": {},
   "outputs": [
    {
     "data": {
      "image/png": "[encoded data removed]",
      "text/plain": [
       "<Figure size 432x288 with 4 Axes>"
      ]
     },
     "metadata": {
      "needs_background": "light"
     },
     "output_type": "display_data"
    }
   ],
   "source": [
    "plt.subplot(221)\n",
    "dat.MoSold.hist()\n",
    "plt.title('Month Sold')\n",
    "plt.subplot(222)\n",
    "dat.YrSold.hist()\n",
    "plt.title('Year Sold')\n",
    "plt.subplot(223)\n",
    "dat.YearBuilt.hist()\n",
    "plt.title('Year Built')\n",
    "plt.subplot(224)\n",
    "dat.YearRemodAdd.hist()\n",
    "plt.title('Year Remodeled')\n",
    "plt.show()"
   ]
  },
  {
   "cell_type": "markdown",
   "id": "774a1d86",
   "metadata": {},
   "source": [
    "# Feature Engineering"
   ]
  },
  {
   "cell_type": "code",
   "execution_count": 375,
   "id": "8a8c43c4",
   "metadata": {},
   "outputs": [],
   "source": [
    "dat['Remodeled'] = (dat.YearRemodAdd != dat.YearBuilt) * 1"
   ]
  },
  {
   "cell_type": "code",
   "execution_count": 376,
   "id": "233695c3",
   "metadata": {},
   "outputs": [],
   "source": [
    "dat['Years_Since_Remodel'] = dat.YearRemodAdd - dat.YearBuilt\n",
    "dat['Home_Age'] = dat.YrSold - dat.YearBuilt"
   ]
  },
  {
   "cell_type": "code",
   "execution_count": 377,
   "id": "201c4abd",
   "metadata": {},
   "outputs": [
    {
     "data": {
      "image/png": "[encoded data removed]",
      "text/plain": [
       "<Figure size 432x288 with 2 Axes>"
      ]
     },
     "metadata": {
      "needs_background": "light"
     },
     "output_type": "display_data"
    }
   ],
   "source": [
    "plt.subplot(211)\n",
    "dat.Years_Since_Remodel.hist()\n",
    "plt.title('Years Since Remodel')\n",
    "plt.subplot(212)\n",
    "dat.Home_Age.hist()\n",
    "plt.title('Home Age')\n",
    "plt.show()"
   ]
  },
  {
   "cell_type": "code",
   "execution_count": 378,
   "id": "92ad1bf3",
   "metadata": {},
   "outputs": [
    {
     "data": {
      "text/html": [
       "<div>\n",
       "<style scoped>\n",
       "    .dataframe tbody tr th:only-of-type {\n",
       "        vertical-align: middle;\n",
       "    }\n",
       "\n",
       "    .dataframe tbody tr th {\n",
       "        vertical-align: top;\n",
       "    }\n",
       "\n",
       "    .dataframe thead th {\n",
       "        text-align: right;\n",
       "    }\n",
       "</style>\n",
       "<table border=\"1\" class=\"dataframe\">\n",
       "  <thead>\n",
       "    <tr style=\"text-align: right;\">\n",
       "      <th></th>\n",
       "      <th>MSSubClass</th>\n",
       "      <th>MSZoning</th>\n",
       "      <th>LotFrontage</th>\n",
       "      <th>LotArea</th>\n",
       "      <th>Street</th>\n",
       "      <th>Alley</th>\n",
       "      <th>LotShape</th>\n",
       "      <th>LandContour</th>\n",
       "      <th>Utilities</th>\n",
       "      <th>LotConfig</th>\n",
       "      <th>...</th>\n",
       "      <th>MiscFeature</th>\n",
       "      <th>MiscVal</th>\n",
       "      <th>MoSold</th>\n",
       "      <th>YrSold</th>\n",
       "      <th>SaleType</th>\n",
       "      <th>SaleCondition</th>\n",
       "      <th>SalePrice</th>\n",
       "      <th>Remodeled</th>\n",
       "      <th>Years_Since_Remodel</th>\n",
       "      <th>Home_Age</th>\n",
       "    </tr>\n",
       "  </thead>\n",
       "  <tbody>\n",
       "    <tr>\n",
       "      <th>0</th>\n",
       "      <td>60</td>\n",
       "      <td>RL</td>\n",
       "      <td>65.0</td>\n",
       "      <td>8450</td>\n",
       "      <td>Pave</td>\n",
       "      <td>NaN</td>\n",
       "      <td>Reg</td>\n",
       "      <td>Lvl</td>\n",
       "      <td>AllPub</td>\n",
       "      <td>Inside</td>\n",
       "      <td>...</td>\n",
       "      <td>NaN</td>\n",
       "      <td>0</td>\n",
       "      <td>2</td>\n",
       "      <td>2008</td>\n",
       "      <td>WD</td>\n",
       "      <td>Normal</td>\n",
       "      <td>208500</td>\n",
       "      <td>0</td>\n",
       "      <td>0</td>\n",
       "      <td>5</td>\n",
       "    </tr>\n",
       "    <tr>\n",
       "      <th>1</th>\n",
       "      <td>20</td>\n",
       "      <td>RL</td>\n",
       "      <td>80.0</td>\n",
       "      <td>9600</td>\n",
       "      <td>Pave</td>\n",
       "      <td>NaN</td>\n",
       "      <td>Reg</td>\n",
       "      <td>Lvl</td>\n",
       "      <td>AllPub</td>\n",
       "      <td>FR2</td>\n",
       "      <td>...</td>\n",
       "      <td>NaN</td>\n",
       "      <td>0</td>\n",
       "      <td>5</td>\n",
       "      <td>2007</td>\n",
       "      <td>WD</td>\n",
       "      <td>Normal</td>\n",
       "      <td>181500</td>\n",
       "      <td>0</td>\n",
       "      <td>0</td>\n",
       "      <td>31</td>\n",
       "    </tr>\n",
       "    <tr>\n",
       "      <th>2</th>\n",
       "      <td>60</td>\n",
       "      <td>RL</td>\n",
       "      <td>68.0</td>\n",
       "      <td>11250</td>\n",
       "      <td>Pave</td>\n",
       "      <td>NaN</td>\n",
       "      <td>IR1</td>\n",
       "      <td>Lvl</td>\n",
       "      <td>AllPub</td>\n",
       "      <td>Inside</td>\n",
       "      <td>...</td>\n",
       "      <td>NaN</td>\n",
       "      <td>0</td>\n",
       "      <td>9</td>\n",
       "      <td>2008</td>\n",
       "      <td>WD</td>\n",
       "      <td>Normal</td>\n",
       "      <td>223500</td>\n",
       "      <td>1</td>\n",
       "      <td>1</td>\n",
       "      <td>7</td>\n",
       "    </tr>\n",
       "    <tr>\n",
       "      <th>3</th>\n",
       "      <td>70</td>\n",
       "      <td>RL</td>\n",
       "      <td>60.0</td>\n",
       "      <td>9550</td>\n",
       "      <td>Pave</td>\n",
       "      <td>NaN</td>\n",
       "      <td>IR1</td>\n",
       "      <td>Lvl</td>\n",
       "      <td>AllPub</td>\n",
       "      <td>Corner</td>\n",
       "      <td>...</td>\n",
       "      <td>NaN</td>\n",
       "      <td>0</td>\n",
       "      <td>2</td>\n",
       "      <td>2006</td>\n",
       "      <td>WD</td>\n",
       "      <td>Abnorml</td>\n",
       "      <td>140000</td>\n",
       "      <td>1</td>\n",
       "      <td>55</td>\n",
       "      <td>91</td>\n",
       "    </tr>\n",
       "    <tr>\n",
       "      <th>4</th>\n",
       "      <td>60</td>\n",
       "      <td>RL</td>\n",
       "      <td>84.0</td>\n",
       "      <td>14260</td>\n",
       "      <td>Pave</td>\n",
       "      <td>NaN</td>\n",
       "      <td>IR1</td>\n",
       "      <td>Lvl</td>\n",
       "      <td>AllPub</td>\n",
       "      <td>FR2</td>\n",
       "      <td>...</td>\n",
       "      <td>NaN</td>\n",
       "      <td>0</td>\n",
       "      <td>12</td>\n",
       "      <td>2008</td>\n",
       "      <td>WD</td>\n",
       "      <td>Normal</td>\n",
       "      <td>250000</td>\n",
       "      <td>0</td>\n",
       "      <td>0</td>\n",
       "      <td>8</td>\n",
       "    </tr>\n",
       "  </tbody>\n",
       "</table>\n",
       "<p>5 rows × 83 columns</p>\n",
       "</div>"
      ],
      "text/plain": [
       "   MSSubClass MSZoning  LotFrontage  LotArea Street Alley LotShape  \\\n",
       "0          60       RL         65.0     8450   Pave   NaN      Reg   \n",
       "1          20       RL         80.0     9600   Pave   NaN      Reg   \n",
       "2          60       RL         68.0    11250   Pave   NaN      IR1   \n",
       "3          70       RL         60.0     9550   Pave   NaN      IR1   \n",
       "4          60       RL         84.0    14260   Pave   NaN      IR1   \n",
       "\n",
       "  LandContour Utilities LotConfig  ... MiscFeature MiscVal MoSold YrSold  \\\n",
       "0         Lvl    AllPub    Inside  ...         NaN       0      2   2008   \n",
       "1         Lvl    AllPub       FR2  ...         NaN       0      5   2007   \n",
       "2         Lvl    AllPub    Inside  ...         NaN       0      9   2008   \n",
       "3         Lvl    AllPub    Corner  ...         NaN       0      2   2006   \n",
       "4         Lvl    AllPub       FR2  ...         NaN       0     12   2008   \n",
       "\n",
       "  SaleType SaleCondition  SalePrice  Remodeled  Years_Since_Remodel  Home_Age  \n",
       "0       WD        Normal     208500          0                    0         5  \n",
       "1       WD        Normal     181500          0                    0        31  \n",
       "2       WD        Normal     223500          1                    1         7  \n",
       "3       WD       Abnorml     140000          1                   55        91  \n",
       "4       WD        Normal     250000          0                    0         8  \n",
       "\n",
       "[5 rows x 83 columns]"
      ]
     },
     "execution_count": 378,
     "metadata": {},
     "output_type": "execute_result"
    }
   ],
   "source": [
    "dat.head()"
   ]
  },
  {
   "cell_type": "code",
   "execution_count": 380,
   "id": "3ea1c266",
   "metadata": {},
   "outputs": [],
   "source": [
    "# Identify numerical data type columns\n",
    "num_cols = list(dat.columns[dat.dtypes == np.int64])\n",
    "num_cols += list(dat.columns[dat.dtypes == np.float64])\n",
    "\n",
    "# Identify categorical data type columns\n",
    "cat_cols = list(set(dat.columns) - set(num_cols))"
   ]
  },
  {
   "cell_type": "code",
   "execution_count": 381,
   "id": "1cfdb7d7",
   "metadata": {},
   "outputs": [],
   "source": [
    "drops = ['Alley', 'PoolQC', 'Fence', 'FireplaceQu', 'MiscFeature', 'SalePrice']\n",
    "na_cols = ['Alley', 'PoolQC', 'Fence', 'FireplaceQu', 'MiscFeature']"
   ]
  },
  {
   "cell_type": "code",
   "execution_count": 382,
   "id": "1c47e5b6",
   "metadata": {},
   "outputs": [],
   "source": [
    "cat_cols = list(set(cat_cols) - set(drops))\n",
    "num_cols = list(set(num_cols) - set(drops))"
   ]
  },
  {
   "cell_type": "code",
   "execution_count": 383,
   "id": "c9012d4f",
   "metadata": {},
   "outputs": [],
   "source": [
    "dat['cat_YrSold'] = dat.YrSold.astype(str)\n",
    "dat['cat_MoSold'] = dat.MoSold.astype(str)\n",
    "cat_cols += ['cat_YrSold', 'cat_MoSold']"
   ]
  },
  {
   "cell_type": "code",
   "execution_count": 384,
   "id": "5aae7213",
   "metadata": {},
   "outputs": [
    {
     "data": {
      "text/html": [
       "<div>\n",
       "<style scoped>\n",
       "    .dataframe tbody tr th:only-of-type {\n",
       "        vertical-align: middle;\n",
       "    }\n",
       "\n",
       "    .dataframe tbody tr th {\n",
       "        vertical-align: top;\n",
       "    }\n",
       "\n",
       "    .dataframe thead th {\n",
       "        text-align: right;\n",
       "    }\n",
       "</style>\n",
       "<table border=\"1\" class=\"dataframe\">\n",
       "  <thead>\n",
       "    <tr style=\"text-align: right;\">\n",
       "      <th></th>\n",
       "      <th>Variable</th>\n",
       "      <th>Unique Count</th>\n",
       "    </tr>\n",
       "  </thead>\n",
       "  <tbody>\n",
       "    <tr>\n",
       "      <th>0</th>\n",
       "      <td>Neighborhood</td>\n",
       "      <td>25</td>\n",
       "    </tr>\n",
       "    <tr>\n",
       "      <th>8</th>\n",
       "      <td>Exterior2nd</td>\n",
       "      <td>16</td>\n",
       "    </tr>\n",
       "    <tr>\n",
       "      <th>9</th>\n",
       "      <td>Exterior1st</td>\n",
       "      <td>15</td>\n",
       "    </tr>\n",
       "    <tr>\n",
       "      <th>39</th>\n",
       "      <td>cat_MoSold</td>\n",
       "      <td>12</td>\n",
       "    </tr>\n",
       "    <tr>\n",
       "      <th>7</th>\n",
       "      <td>SaleType</td>\n",
       "      <td>9</td>\n",
       "    </tr>\n",
       "    <tr>\n",
       "      <th>24</th>\n",
       "      <td>Condition1</td>\n",
       "      <td>9</td>\n",
       "    </tr>\n",
       "    <tr>\n",
       "      <th>5</th>\n",
       "      <td>Condition2</td>\n",
       "      <td>8</td>\n",
       "    </tr>\n",
       "    <tr>\n",
       "      <th>35</th>\n",
       "      <td>RoofMatl</td>\n",
       "      <td>8</td>\n",
       "    </tr>\n",
       "    <tr>\n",
       "      <th>31</th>\n",
       "      <td>HouseStyle</td>\n",
       "      <td>8</td>\n",
       "    </tr>\n",
       "    <tr>\n",
       "      <th>16</th>\n",
       "      <td>Functional</td>\n",
       "      <td>7</td>\n",
       "    </tr>\n",
       "  </tbody>\n",
       "</table>\n",
       "</div>"
      ],
      "text/plain": [
       "        Variable  Unique Count\n",
       "0   Neighborhood            25\n",
       "8    Exterior2nd            16\n",
       "9    Exterior1st            15\n",
       "39    cat_MoSold            12\n",
       "7       SaleType             9\n",
       "24    Condition1             9\n",
       "5     Condition2             8\n",
       "35      RoofMatl             8\n",
       "31    HouseStyle             8\n",
       "16    Functional             7"
      ]
     },
     "execution_count": 384,
     "metadata": {},
     "output_type": "execute_result"
    }
   ],
   "source": [
    "cat_lens = {}\n",
    "for c in cat_cols:\n",
    "    cat_lens[c] = dat[c].nunique()\n",
    "\n",
    "pd.DataFrame({'Variable': cat_lens.keys(), 'Unique Count': cat_lens.values()}).sort_values(by = 'Unique Count', ascending=False).head(10)"
   ]
  },
  {
   "cell_type": "code",
   "execution_count": 385,
   "id": "84ec7a0e",
   "metadata": {},
   "outputs": [
    {
     "data": {
      "image/png": "[encoded data removed]",
      "text/plain": [
       "<Figure size 432x288 with 1 Axes>"
      ]
     },
     "metadata": {
      "needs_background": "light"
     },
     "output_type": "display_data"
    },
    {
     "data": {
      "image/png": "[encoded data removed]",
      "text/plain": [
       "<Figure size 432x288 with 1 Axes>"
      ]
     },
     "metadata": {
      "needs_background": "light"
     },
     "output_type": "display_data"
    },
    {
     "data": {
      "image/png": "[encoded data removed]",
      "text/plain": [
       "<Figure size 432x288 with 1 Axes>"
      ]
     },
     "metadata": {
      "needs_background": "light"
     },
     "output_type": "display_data"
    }
   ],
   "source": [
    "for c in ['Neighborhood', 'Exterior2nd', 'Exterior1st']:\n",
    "    vals = dat[c].value_counts()\n",
    "    labs = dat[c].value_counts().keys()\n",
    "    plt.barh(labs, vals)\n",
    "    plt.title(c)\n",
    "    plt.show()"
   ]
  },
  {
   "cell_type": "code",
   "execution_count": 386,
   "id": "95501982",
   "metadata": {},
   "outputs": [],
   "source": [
    "cat_categories = []\n",
    "for c in cat_cols:\n",
    "    cat_categories.append(list(set(dat[c])))"
   ]
  },
  {
   "cell_type": "markdown",
   "id": "5738c25e",
   "metadata": {},
   "source": [
    "After dropping variables that were missing a substantial amount of data we can go on to encode the categorical variables via one hot encoding."
   ]
  },
  {
   "cell_type": "code",
   "execution_count": 387,
   "id": "503ce51a",
   "metadata": {},
   "outputs": [
    {
     "data": {
      "text/plain": [
       "array([[0., 0., 0., ..., 0., 0., 0.],\n",
       "       [0., 0., 0., ..., 0., 0., 0.],\n",
       "       [0., 0., 0., ..., 0., 0., 0.],\n",
       "       ...,\n",
       "       [0., 0., 0., ..., 0., 0., 0.],\n",
       "       [0., 0., 0., ..., 0., 0., 1.],\n",
       "       [0., 0., 0., ..., 0., 0., 0.]])"
      ]
     },
     "execution_count": 387,
     "metadata": {},
     "output_type": "execute_result"
    }
   ],
   "source": [
    "enc = OneHotEncoder(categories=cat_categories, handle_unknown='ignore')\n",
    "enc.fit(dat[cat_cols])\n",
    "enc.transform(dat[cat_cols]).toarray()"
   ]
  },
  {
   "cell_type": "code",
   "execution_count": 452,
   "id": "263bee6f",
   "metadata": {},
   "outputs": [],
   "source": [
    "# Save encoder\n",
    "filename = 'encoder.pkl'\n",
    "with open(filename, 'wb') as file:\n",
    "    pickle.dump(enc, file)"
   ]
  },
  {
   "cell_type": "code",
   "execution_count": 453,
   "id": "6ef44d6c",
   "metadata": {},
   "outputs": [],
   "source": [
    "# Load encoder\n",
    "filename = 'encoder.pkl'\n",
    "with open(filename, 'rb') as file:\n",
    "    pkl_enc = pickle.load(file)"
   ]
  },
  {
   "cell_type": "markdown",
   "id": "edfd952a",
   "metadata": {},
   "source": [
    "With the data encoded and the encoder fit to the training data it's time to impute the missing values of the data set. We'll use KNN imputation to fill in any missing values in the data set."
   ]
  },
  {
   "cell_type": "code",
   "execution_count": 454,
   "id": "2215769a",
   "metadata": {},
   "outputs": [],
   "source": [
    "dat_imp = pd.concat([pd.DataFrame(enc.transform(dat[cat_cols]).toarray()), dat[num_cols], dat[na_cols].isna() * 1], axis=1)"
   ]
  },
  {
   "cell_type": "code",
   "execution_count": 455,
   "id": "c9deaa08",
   "metadata": {},
   "outputs": [],
   "source": [
    "imputer = KNNImputer(n_neighbors=5)\n",
    "x_train = imputer.fit_transform(dat_imp)\n",
    "y_train = dat.SalePrice"
   ]
  },
  {
   "cell_type": "code",
   "execution_count": 456,
   "id": "848dbd56",
   "metadata": {},
   "outputs": [
    {
     "data": {
      "text/plain": [
       "(1460, 306)"
      ]
     },
     "execution_count": 456,
     "metadata": {},
     "output_type": "execute_result"
    }
   ],
   "source": [
    "x_train.shape"
   ]
  },
  {
   "cell_type": "markdown",
   "id": "77339d2a",
   "metadata": {},
   "source": [
    "# Train the Model\n",
    "\n",
    "There is usually a bit more to training the model than just passing a training data set and letting it build, however the default model works alright in this case so we'll train a gradient boosted regressor model on our newly transformed and imputed data set."
   ]
  },
  {
   "cell_type": "code",
   "execution_count": 438,
   "id": "2105d95d",
   "metadata": {},
   "outputs": [],
   "source": [
    "param_grid = {\n",
    "    'loss': ('ls', 'huber', 'quantile'),\n",
    "    'learning_rate': list(np.linspace(0.01, 0.3, 20)),\n",
    "    'n_estimators': list(np.linspace(100, 300, 20, dtype=int)),\n",
    "    'criterion': ('friedman_mse', 'mse'),\n",
    "    'subsample': list(np.linspace(0.4, 1, 20)),\n",
    "    'max_depth': list(np.linspace(1, 12, 12, dtype=int))\n",
    "    }\n",
    "\n",
    "base_estimator = GradientBoostingRegressor()\n",
    "sh = HalvingRandomSearchCV(estimator=base_estimator, param_distributions=param_grid, scoring='explained_variance', cv=4, factor=3, max_resources='auto', aggressive_elimination=False).fit(x_train, y_train)"
   ]
  },
  {
   "cell_type": "code",
   "execution_count": 439,
   "id": "9cf1f70d",
   "metadata": {},
   "outputs": [],
   "source": [
    "hp_df = pd.DataFrame(sh.cv_results_)\n",
    "drops = ['iter', 'n_resources', 'mean_fit_time', 'std_fit_time', 'mean_score_time', 'std_score_time', 'split0_test_score',\n",
    "       'split1_test_score', 'split2_test_score', 'split3_test_score', 'split0_train_score', 'split1_train_score', 'split2_train_score',\n",
    "       'split3_train_score']\n",
    "hp_df = hp_df.drop(drops, axis=1)"
   ]
  },
  {
   "cell_type": "code",
   "execution_count": 440,
   "id": "ba08e714",
   "metadata": {},
   "outputs": [
    {
     "data": {
      "text/html": [
       "<div>\n",
       "<style scoped>\n",
       "    .dataframe tbody tr th:only-of-type {\n",
       "        vertical-align: middle;\n",
       "    }\n",
       "\n",
       "    .dataframe tbody tr th {\n",
       "        vertical-align: top;\n",
       "    }\n",
       "\n",
       "    .dataframe thead th {\n",
       "        text-align: right;\n",
       "    }\n",
       "</style>\n",
       "<table border=\"1\" class=\"dataframe\">\n",
       "  <thead>\n",
       "    <tr style=\"text-align: right;\">\n",
       "      <th></th>\n",
       "      <th>param_subsample</th>\n",
       "      <th>param_n_estimators</th>\n",
       "      <th>param_max_depth</th>\n",
       "      <th>param_loss</th>\n",
       "      <th>param_learning_rate</th>\n",
       "      <th>param_criterion</th>\n",
       "      <th>params</th>\n",
       "      <th>mean_test_score</th>\n",
       "      <th>std_test_score</th>\n",
       "      <th>rank_test_score</th>\n",
       "      <th>mean_train_score</th>\n",
       "      <th>std_train_score</th>\n",
       "    </tr>\n",
       "  </thead>\n",
       "  <tbody>\n",
       "    <tr>\n",
       "      <th>0</th>\n",
       "      <td>0.463158</td>\n",
       "      <td>163</td>\n",
       "      <td>2</td>\n",
       "      <td>quantile</td>\n",
       "      <td>0.208421</td>\n",
       "      <td>mse</td>\n",
       "      <td>{'subsample': 0.4631578947368421, 'n_estimator...</td>\n",
       "      <td>-9.594164</td>\n",
       "      <td>17.844119</td>\n",
       "      <td>159</td>\n",
       "      <td>0.999391</td>\n",
       "      <td>8.365752e-04</td>\n",
       "    </tr>\n",
       "    <tr>\n",
       "      <th>1</th>\n",
       "      <td>0.494737</td>\n",
       "      <td>215</td>\n",
       "      <td>11</td>\n",
       "      <td>quantile</td>\n",
       "      <td>0.284737</td>\n",
       "      <td>friedman_mse</td>\n",
       "      <td>{'subsample': 0.4947368421052632, 'n_estimator...</td>\n",
       "      <td>-0.251029</td>\n",
       "      <td>1.649513</td>\n",
       "      <td>107</td>\n",
       "      <td>1.000000</td>\n",
       "      <td>1.074547e-07</td>\n",
       "    </tr>\n",
       "    <tr>\n",
       "      <th>2</th>\n",
       "      <td>0.747368</td>\n",
       "      <td>236</td>\n",
       "      <td>1</td>\n",
       "      <td>huber</td>\n",
       "      <td>0.040526</td>\n",
       "      <td>friedman_mse</td>\n",
       "      <td>{'subsample': 0.7473684210526317, 'n_estimator...</td>\n",
       "      <td>-28.477259</td>\n",
       "      <td>50.948878</td>\n",
       "      <td>201</td>\n",
       "      <td>0.999927</td>\n",
       "      <td>3.142926e-05</td>\n",
       "    </tr>\n",
       "    <tr>\n",
       "      <th>3</th>\n",
       "      <td>0.526316</td>\n",
       "      <td>194</td>\n",
       "      <td>9</td>\n",
       "      <td>quantile</td>\n",
       "      <td>0.223684</td>\n",
       "      <td>friedman_mse</td>\n",
       "      <td>{'subsample': 0.5263157894736843, 'n_estimator...</td>\n",
       "      <td>-7.556452</td>\n",
       "      <td>14.734837</td>\n",
       "      <td>146</td>\n",
       "      <td>0.999999</td>\n",
       "      <td>8.409399e-07</td>\n",
       "    </tr>\n",
       "    <tr>\n",
       "      <th>4</th>\n",
       "      <td>0.810526</td>\n",
       "      <td>173</td>\n",
       "      <td>12</td>\n",
       "      <td>ls</td>\n",
       "      <td>0.040526</td>\n",
       "      <td>friedman_mse</td>\n",
       "      <td>{'subsample': 0.8105263157894738, 'n_estimator...</td>\n",
       "      <td>-3.716022</td>\n",
       "      <td>7.953803</td>\n",
       "      <td>130</td>\n",
       "      <td>0.999855</td>\n",
       "      <td>1.690683e-05</td>\n",
       "    </tr>\n",
       "  </tbody>\n",
       "</table>\n",
       "</div>"
      ],
      "text/plain": [
       "  param_subsample param_n_estimators param_max_depth param_loss  \\\n",
       "0        0.463158                163               2   quantile   \n",
       "1        0.494737                215              11   quantile   \n",
       "2        0.747368                236               1      huber   \n",
       "3        0.526316                194               9   quantile   \n",
       "4        0.810526                173              12         ls   \n",
       "\n",
       "  param_learning_rate param_criterion  \\\n",
       "0            0.208421             mse   \n",
       "1            0.284737    friedman_mse   \n",
       "2            0.040526    friedman_mse   \n",
       "3            0.223684    friedman_mse   \n",
       "4            0.040526    friedman_mse   \n",
       "\n",
       "                                              params  mean_test_score  \\\n",
       "0  {'subsample': 0.4631578947368421, 'n_estimator...        -9.594164   \n",
       "1  {'subsample': 0.4947368421052632, 'n_estimator...        -0.251029   \n",
       "2  {'subsample': 0.7473684210526317, 'n_estimator...       -28.477259   \n",
       "3  {'subsample': 0.5263157894736843, 'n_estimator...        -7.556452   \n",
       "4  {'subsample': 0.8105263157894738, 'n_estimator...        -3.716022   \n",
       "\n",
       "   std_test_score  rank_test_score  mean_train_score  std_train_score  \n",
       "0       17.844119              159          0.999391     8.365752e-04  \n",
       "1        1.649513              107          1.000000     1.074547e-07  \n",
       "2       50.948878              201          0.999927     3.142926e-05  \n",
       "3       14.734837              146          0.999999     8.409399e-07  \n",
       "4        7.953803              130          0.999855     1.690683e-05  "
      ]
     },
     "execution_count": 440,
     "metadata": {},
     "output_type": "execute_result"
    }
   ],
   "source": [
    "hp_df.head(5)"
   ]
  },
  {
   "cell_type": "code",
   "execution_count": 441,
   "id": "7dd2414b",
   "metadata": {},
   "outputs": [
    {
     "data": {
      "text/plain": [
       "{'subsample': 0.5263157894736843,\n",
       " 'n_estimators': 257,\n",
       " 'max_depth': 8,\n",
       " 'loss': 'ls',\n",
       " 'learning_rate': 0.20842105263157895,\n",
       " 'criterion': 'mse'}"
      ]
     },
     "execution_count": 441,
     "metadata": {},
     "output_type": "execute_result"
    }
   ],
   "source": [
    "# \"Best\" model hyperparameters\n",
    "hp_df.loc[hp_df.rank_test_score == 1].params.values[0]"
   ]
  },
  {
   "cell_type": "code",
   "execution_count": 442,
   "id": "ed922e5b",
   "metadata": {},
   "outputs": [],
   "source": [
    "# Default model parameters\n",
    "params = {\n",
    "    'loss': 'ls',\n",
    "    'learning_rate': 0.05,\n",
    "    'n_estimators': 200,\n",
    "    'criterion': 'mse',\n",
    "    'subsample': 0.8,\n",
    "    'max_depth': 5\n",
    "}\n",
    "\n",
    "# Default model\n",
    "model = GradientBoostingRegressor(**params)"
   ]
  },
  {
   "cell_type": "code",
   "execution_count": 443,
   "id": "413a984e",
   "metadata": {},
   "outputs": [],
   "source": [
    "# HP job parameters\n",
    "params = hp_df.loc[hp_df.rank_test_score == 1].params.values[0]\n",
    "\n",
    "# HP job model\n",
    "model = sh.best_estimator_"
   ]
  },
  {
   "cell_type": "code",
   "execution_count": 444,
   "id": "55803ba9",
   "metadata": {},
   "outputs": [
    {
     "data": {
      "image/png": "[encoded data removed]",
      "text/plain": [
       "<Figure size 432x288 with 1 Axes>"
      ]
     },
     "metadata": {
      "needs_background": "light"
     },
     "output_type": "display_data"
    }
   ],
   "source": [
    "plt.scatter(y_train, model.predict(x_train))\n",
    "plt.xlabel('Observed Prices')\n",
    "plt.ylabel('Predicted Prices')\n",
    "plt.title('Observed vs Predicted Home Sale Prices')\n",
    "plt.show()"
   ]
  },
  {
   "cell_type": "code",
   "execution_count": 445,
   "id": "a913aab9",
   "metadata": {},
   "outputs": [
    {
     "name": "stdout",
     "output_type": "stream",
     "text": [
      "Training Data Correlation: 0.9997763498568182\n",
      "Training Data Explained Variance: 0.9997765130195538\n",
      "Training Data Max Error: 21022.36969174567\n"
     ]
    }
   ],
   "source": [
    "print(f'Training Data Correlation: {r2_score(y_train, model.predict(x_train))}')\n",
    "print(f'Training Data Explained Variance: {explained_variance_score(y_train, model.predict(x_train))}')\n",
    "print(f'Training Data Max Error: {max_error(y_train, model.predict(x_train))}')"
   ]
  },
  {
   "cell_type": "code",
   "execution_count": 446,
   "id": "3057e2c9",
   "metadata": {},
   "outputs": [],
   "source": [
    "test_dat = pd.read_csv(f'{base_path}/env/data/test.csv')"
   ]
  },
  {
   "cell_type": "code",
   "execution_count": 447,
   "id": "f3d10957",
   "metadata": {},
   "outputs": [],
   "source": [
    "test_dat['Remodeled'] = (test_dat.YearRemodAdd != test_dat.YearBuilt) * 1\n",
    "test_dat['Years_Since_Remodel'] = test_dat.YearRemodAdd - test_dat.YearBuilt\n",
    "test_dat['Home_Age'] = test_dat.YrSold - test_dat.YearBuilt\n",
    "test_dat['cat_YrSold'] = test_dat.YrSold.astype(str)\n",
    "test_dat['cat_MoSold'] = test_dat.MoSold.astype(str)"
   ]
  },
  {
   "cell_type": "code",
   "execution_count": 448,
   "id": "bfa8e224",
   "metadata": {},
   "outputs": [],
   "source": [
    "enc.transform(test_dat[cat_cols]).toarray()\n",
    "test_imp = pd.concat([pd.DataFrame(enc.transform(test_dat[cat_cols]).toarray()), test_dat[num_cols], test_dat[na_cols].isna() * 1], axis=1)\n",
    "x_test = imputer.transform(test_imp)"
   ]
  },
  {
   "cell_type": "markdown",
   "id": "515d341e",
   "metadata": {},
   "source": [
    "With the test data formatted we can now generate the output for Kaggle submissions, to do this we'll use pandas to write out a dataframe with the `Id` and corresponding `SalePrice` predictions."
   ]
  },
  {
   "cell_type": "code",
   "execution_count": 449,
   "id": "fd67039c",
   "metadata": {},
   "outputs": [],
   "source": [
    "output = pd.DataFrame({'Id': test_dat.Id, 'SalePrice': model.predict(x_test)})"
   ]
  },
  {
   "cell_type": "code",
   "execution_count": 450,
   "id": "2619e499",
   "metadata": {},
   "outputs": [],
   "source": [
    "output.to_csv(f'{base_path}/env/data/jdym_submission.csv', index=False)"
   ]
  }
 ],
 "metadata": {
  "kernelspec": {
   "display_name": "Python 3",
   "language": "python",
   "name": "python3"
  },
  "language_info": {
   "codemirror_mode": {
    "name": "ipython",
    "version": 3
   },
   "file_extension": ".py",
   "mimetype": "text/x-python",
   "name": "python",
   "nbconvert_exporter": "python",
   "pygments_lexer": "ipython3",
   "version": "3.9.5"
  }
 },
 "nbformat": 4,
 "nbformat_minor": 5
}
